{
 "cells": [
  {
   "cell_type": "markdown",
   "id": "2e4501f2-2871-4a2a-9491-58e2194e7a2f",
   "metadata": {},
   "source": [
    "## First project: Python Analysis on profitable App Profiles for App Store and Google Play Store\n",
    "\n",
    "Hi everyone, this is my first project using Python to analyse the profitable app profiles for app store and google play store. In this scenario, I am working as a data analysts for a company that builds Android and iOS mobile apps.\n",
    "\n",
    "In this company, we only build apps that are free to download and install, and our main source of revenue consists of in-app ads. We only build apps that are free to download and install, and our main source of revenue consists of in-app ads. This means that the number of users of our apps determines our revenue for any given app — the more users who see and engage with the ads, the better. Our goal for this project is to analyze data to help our developers understand what type of apps are likely to attract more users.\n",
    "\n",
    "### Opening and exploring the Data sets\n",
    "\n",
    "As of September 2018, there were approximately 2 million iOS apps available on the App Store, and 2.1 million Android apps on Google Play.\n",
    "\n",
    "* [The Google Play Store Dataset](https://www.kaggle.com/datasets/lava18/google-play-store-apps/data) contains data about approximately 10,000 Android apps from Google Play; the data was collected in August 2018.\n",
    "\n",
    "* [The Apple Store Dataset](https://www.kaggle.com/datasets/ramamet4/app-store-apple-data-set-10k-apps) contains data about approximately 7,000 iOS apps from the App Store; the data was collected in July 2017.\n",
    "\n",
    "Lets explore both the dataset by loading it into Jupyter Notebook."
   ]
  },
  {
   "cell_type": "markdown",
   "id": "7f1b0b68-4408-4a84-9d58-0e2e25918a03",
   "metadata": {},
   "source": [
    "We are going to load both the `'AppleStore.csv'` and `'googleplaystore.csv'` into Jupyter Notebook in the following code chunk:\n",
    "\n",
    "1) Open the `'AppleStore.csv'` and `'googleplaystore.csv'` using the `open()` function\n",
    "2) Import `reader()` function from the `csv` module\n",
    "3) read the file using `reader()` function, and assigning the variable to `read_file`\n",
    "4) open the `read_file` as a list-of-list using the `list()` function and named both as `apple_apps` and `google_apps` accordingly\n",
    "5) we created separate list for the header and body of the dataset "
   ]
  },
  {
   "cell_type": "code",
   "execution_count": 3,
   "id": "39d81d1f-0849-4725-bbff-4edb9efcdf94",
   "metadata": {},
   "outputs": [],
   "source": [
    "from csv import reader\n",
    "\n",
    "#### This is App Store data set ####\n",
    "opened_file = open('AppleStore.csv')\n",
    "read_file = reader(opened_file)\n",
    "apple_apps = list(read_file)\n",
    "apple_header = apple_apps[0]\n",
    "apple_apps = apple_apps[1:]\n",
    "\n",
    "#### This is Andriod data set ####\n",
    "opened_file = open('googleplaystore.csv')\n",
    "read_file = reader(opened_file)\n",
    "google_apps = list(read_file)\n",
    "google_header = google_apps[0]\n",
    "google_apps = google_apps[1:]"
   ]
  },
  {
   "cell_type": "markdown",
   "id": "cb1445eb-ef4d-4137-89d7-e5339cd64b15",
   "metadata": {},
   "source": [
    "In the Function below, we defined `explore_data()` function. The `explore_data()` function is used to inspect a specific portion of dataset and optionally view its structure."
   ]
  },
  {
   "cell_type": "code",
   "execution_count": 5,
   "id": "06927304-03d1-4758-a062-73c0aef8ea70",
   "metadata": {},
   "outputs": [],
   "source": [
    "def explore_data(data_set, start, end, no_rows_and_column = False):\n",
    "    dataset_slice = data_set[start:end]\n",
    "    for row in dataset_slice:\n",
    "        print(row)\n",
    "        print('\\n') #adds an empty line after each row\n",
    "\n",
    "    if no_rows_and_column:\n",
    "        print('Number of rows:', len(data_set))\n",
    "        print('Number of column:', len(data_set[0]))"
   ]
  },
  {
   "cell_type": "code",
   "execution_count": 6,
   "id": "4247adf9-3dc2-424a-9f87-56b524202d49",
   "metadata": {},
   "outputs": [
    {
     "name": "stdout",
     "output_type": "stream",
     "text": [
      "['id', 'track_name', 'size_bytes', 'currency', 'price', 'rating_count_tot', 'rating_count_ver', 'user_rating', 'user_rating_ver', 'ver', 'cont_rating', 'prime_genre', 'sup_devices.num', 'ipadSc_urls.num', 'lang.num', 'vpp_lic']\n",
      "\n",
      "\n",
      "['284882215', 'Facebook', '389879808', 'USD', '0.0', '2974676', '212', '3.5', '3.5', '95.0', '4+', 'Social Networking', '37', '1', '29', '1']\n",
      "\n",
      "\n",
      "['389801252', 'Instagram', '113954816', 'USD', '0.0', '2161558', '1289', '4.5', '4.0', '10.23', '12+', 'Photo & Video', '37', '0', '29', '1']\n",
      "\n",
      "\n",
      "['529479190', 'Clash of Clans', '116476928', 'USD', '0.0', '2130805', '579', '4.5', '4.5', '9.24.12', '9+', 'Games', '38', '5', '18', '1']\n",
      "\n",
      "\n",
      "['420009108', 'Temple Run', '65921024', 'USD', '0.0', '1724546', '3842', '4.5', '4.0', '1.6.2', '9+', 'Games', '40', '5', '1', '1']\n",
      "\n",
      "\n",
      "['284035177', 'Pandora - Music & Radio', '130242560', 'USD', '0.0', '1126879', '3594', '4.0', '4.5', '8.4.1', '12+', 'Music', '37', '4', '1', '1']\n",
      "\n",
      "\n",
      "Number of rows: 7197\n",
      "Number of column: 16\n"
     ]
    }
   ],
   "source": [
    "print(apple_header)\n",
    "print('\\n')\n",
    "explore_data(apple_apps,0,5,True)"
   ]
  },
  {
   "cell_type": "markdown",
   "id": "5f2418c8-6646-442c-9d44-c084c47a1254",
   "metadata": {},
   "source": [
    "We have 7197 number of rows in iOS apps in the dataset, and the column names are not easily understandable, namely `'track_name'`, `'currency'`, `'rating_count_tot'`, '`rating_count_ver'`. Details of each columns can be found in dataset [documentation](https://www.kaggle.com/datasets/ramamet4/app-store-apple-data-set-10k-apps)"
   ]
  },
  {
   "cell_type": "code",
   "execution_count": 8,
   "id": "79ff1f7e-0a8a-40fd-8502-d04873fae4f7",
   "metadata": {},
   "outputs": [
    {
     "name": "stdout",
     "output_type": "stream",
     "text": [
      "['App', 'Category', 'Rating', 'Reviews', 'Size', 'Installs', 'Type', 'Price', 'Content Rating', 'Genres', 'Last Updated', 'Current Ver', 'Android Ver']\n",
      "\n",
      "\n",
      "['Photo Editor & Candy Camera & Grid & ScrapBook', 'ART_AND_DESIGN', '4.1', '159', '19M', '10,000+', 'Free', '0', 'Everyone', 'Art & Design', 'January 7, 2018', '1.0.0', '4.0.3 and up']\n",
      "\n",
      "\n",
      "['Coloring book moana', 'ART_AND_DESIGN', '3.9', '967', '14M', '500,000+', 'Free', '0', 'Everyone', 'Art & Design;Pretend Play', 'January 15, 2018', '2.0.0', '4.0.3 and up']\n",
      "\n",
      "\n",
      "['U Launcher Lite – FREE Live Cool Themes, Hide Apps', 'ART_AND_DESIGN', '4.7', '87510', '8.7M', '5,000,000+', 'Free', '0', 'Everyone', 'Art & Design', 'August 1, 2018', '1.2.4', '4.0.3 and up']\n",
      "\n",
      "\n",
      "['Sketch - Draw & Paint', 'ART_AND_DESIGN', '4.5', '215644', '25M', '50,000,000+', 'Free', '0', 'Teen', 'Art & Design', 'June 8, 2018', 'Varies with device', '4.2 and up']\n",
      "\n",
      "\n",
      "['Pixel Draw - Number Art Coloring Book', 'ART_AND_DESIGN', '4.3', '967', '2.8M', '100,000+', 'Free', '0', 'Everyone', 'Art & Design;Creativity', 'June 20, 2018', '1.1', '4.4 and up']\n",
      "\n",
      "\n",
      "Number of rows: 10841\n",
      "Number of column: 13\n"
     ]
    }
   ],
   "source": [
    "print(google_header)\n",
    "print('\\n')\n",
    "explore_data(google_apps,0,5,True)"
   ]
  },
  {
   "cell_type": "markdown",
   "id": "457dd8ef-7560-479c-a729-6dd710cc99bc",
   "metadata": {},
   "source": [
    "in the Andriod dataset, we have 10841 number of rows, and 13 columns. The columns that can be useful for our analysis could be `'App'`, `'Category'`, `'Rating'`, `'Reviews'`, `'Installs'`, `'Price'`,`'Content Rating'`, and `'Genres'`. The details of the column names can be found in the [documentation](https://www.kaggle.com/datasets/lava18/google-play-store-apps) of the dataset."
   ]
  },
  {
   "cell_type": "markdown",
   "id": "e85a5ef5-e5cc-4b3e-aca6-54da894278b4",
   "metadata": {},
   "source": [
    "|Name in iOS| Name in Andriod| Description|\n",
    "|-----------|----------------|------------|\n",
    "|\"id\"| NULL| App ID|\n",
    "|\"track_name\" | App| Application Name|\n",
    "|\"size_bytes\" | Size| Size of app|\n",
    "|\"price\" | Price| Price of app|\n",
    "|\"user_rating\" | Rating | Overall user rating|\n",
    "|\"cont_rating\" | Content Rating | Content Rating |\n",
    "|\"prime_genre\" | Genres| Genres of app|\n",
    "|NULL | Installs | Number of user downloads|\n",
    "|NULL | Reviews | Number of user reviews|"
   ]
  },
  {
   "cell_type": "markdown",
   "id": "f4f57f71-4c94-4c0d-a436-e12e2f017657",
   "metadata": {},
   "source": [
    "I have labelled some column names in both the datasets for better understading of the datasets."
   ]
  },
  {
   "cell_type": "markdown",
   "id": "552fe0f4-8505-461f-9621-072a46dff186",
   "metadata": {},
   "source": [
    "## Deleting Wrong Data"
   ]
  },
  {
   "cell_type": "markdown",
   "id": "59b667b3-e597-40e0-955f-a035019a291e",
   "metadata": {},
   "source": [
    "Now, we look for the number of columns in our dataset that does not match"
   ]
  },
  {
   "cell_type": "code",
   "execution_count": 14,
   "id": "38be1037-dce6-442f-80de-1d061d943b47",
   "metadata": {
    "scrolled": true
   },
   "outputs": [
    {
     "name": "stdout",
     "output_type": "stream",
     "text": [
      "['Life Made WI-Fi Touchscreen Photo Frame', '1.9', '19', '3.0M', '1,000+', 'Free', '0', 'Everyone', '', 'February 11, 2018', '1.0.19', '4.0 and up']\n",
      "10472\n"
     ]
    }
   ],
   "source": [
    "for row in google_apps:\n",
    "    header_length = len(google_header)\n",
    "    if len(row) != header_length:\n",
    "        ##Reason why not using len(google_apps), is because we are comparing header_length against single number of row, instaed of total number of rows in dataset\n",
    "        print(row)\n",
    "        print(google_apps.index(row))"
   ]
  },
  {
   "cell_type": "code",
   "execution_count": 15,
   "id": "d1657681-ee88-4353-b017-d965430cdd4f",
   "metadata": {},
   "outputs": [
    {
     "name": "stdout",
     "output_type": "stream",
     "text": [
      "['Life Made WI-Fi Touchscreen Photo Frame', '1.9', '19', '3.0M', '1,000+', 'Free', '0', 'Everyone', '', 'February 11, 2018', '1.0.19', '4.0 and up']\n",
      "\n",
      "\n",
      "['App', 'Category', 'Rating', 'Reviews', 'Size', 'Installs', 'Type', 'Price', 'Content Rating', 'Genres', 'Last Updated', 'Current Ver', 'Android Ver']\n"
     ]
    }
   ],
   "source": [
    "print(google_apps[10472])\n",
    "print('\\n')\n",
    "print(google_header)"
   ]
  },
  {
   "cell_type": "markdown",
   "id": "76a4e38a-5b80-451b-bbbb-a5765b225536",
   "metadata": {},
   "source": [
    "The row 10472 corresponds to app *Life Made WI-Fi Touchscreen Photo Frame*, the value under `Rating` column is 19, which is clearly above the maximum rating for app at 5. This problem is caused by a missing value in the `Category` of the row. For this reason, we will delete the row."
   ]
  },
  {
   "cell_type": "code",
   "execution_count": 17,
   "id": "62ad9546-d88c-4a41-acee-234b72943978",
   "metadata": {},
   "outputs": [
    {
     "name": "stdout",
     "output_type": "stream",
     "text": [
      "10841\n",
      "10840\n"
     ]
    }
   ],
   "source": [
    "print(len(google_apps))\n",
    "del google_apps[10472]\n",
    "print(len(google_apps))"
   ]
  },
  {
   "cell_type": "markdown",
   "id": "c0b6b8a0-8308-49ae-acfb-0d58c196338e",
   "metadata": {},
   "source": [
    "## Removing duplicated entries"
   ]
  },
  {
   "cell_type": "markdown",
   "id": "6559c88b-67b6-425e-9a6c-ce162685ce3d",
   "metadata": {},
   "source": [
    "#### Part One\n",
    "\n",
    "To find out what are the duplicated App in `google_apps` dataset. "
   ]
  },
  {
   "cell_type": "code",
   "execution_count": 20,
   "id": "f5443a00-2785-4fba-84be-ec68ebb7602e",
   "metadata": {},
   "outputs": [
    {
     "name": "stdout",
     "output_type": "stream",
     "text": [
      "['App', 'Category', 'Rating', 'Reviews', 'Size', 'Installs', 'Type', 'Price', 'Content Rating', 'Genres', 'Last Updated', 'Current Ver', 'Android Ver']\n",
      "['Instagram', 'SOCIAL', '4.5', '66577313', 'Varies with device', '1,000,000,000+', 'Free', '0', 'Teen', 'Social', 'July 31, 2018', 'Varies with device', 'Varies with device']\n",
      "\n",
      "\n",
      "['App', 'Category', 'Rating', 'Reviews', 'Size', 'Installs', 'Type', 'Price', 'Content Rating', 'Genres', 'Last Updated', 'Current Ver', 'Android Ver']\n",
      "['Instagram', 'SOCIAL', '4.5', '66577446', 'Varies with device', '1,000,000,000+', 'Free', '0', 'Teen', 'Social', 'July 31, 2018', 'Varies with device', 'Varies with device']\n",
      "\n",
      "\n",
      "['App', 'Category', 'Rating', 'Reviews', 'Size', 'Installs', 'Type', 'Price', 'Content Rating', 'Genres', 'Last Updated', 'Current Ver', 'Android Ver']\n",
      "['Instagram', 'SOCIAL', '4.5', '66577313', 'Varies with device', '1,000,000,000+', 'Free', '0', 'Teen', 'Social', 'July 31, 2018', 'Varies with device', 'Varies with device']\n",
      "\n",
      "\n",
      "['App', 'Category', 'Rating', 'Reviews', 'Size', 'Installs', 'Type', 'Price', 'Content Rating', 'Genres', 'Last Updated', 'Current Ver', 'Android Ver']\n",
      "['Instagram', 'SOCIAL', '4.5', '66509917', 'Varies with device', '1,000,000,000+', 'Free', '0', 'Teen', 'Social', 'July 31, 2018', 'Varies with device', 'Varies with device']\n",
      "\n",
      "\n"
     ]
    }
   ],
   "source": [
    "for app in google_apps:\n",
    "    name = app[0]\n",
    "    if name == \"Instagram\":\n",
    "        print(google_header)\n",
    "        print(app)\n",
    "        print('\\n')"
   ]
  },
  {
   "cell_type": "markdown",
   "id": "a1996160-3acf-441d-99cf-2b4ab86aecec",
   "metadata": {},
   "source": [
    "There seems to be 4 entries of **Instagram** in the dataset."
   ]
  },
  {
   "cell_type": "markdown",
   "id": "fddbdad1-84e4-422b-af9c-7da2b7dd6a65",
   "metadata": {},
   "source": [
    "Now we can create 2 seperate list to store the values of duplicated apps, and see how many duplicates we are dealing with"
   ]
  },
  {
   "cell_type": "code",
   "execution_count": 23,
   "id": "d52ea633-d92e-4852-b789-d4930e017c55",
   "metadata": {},
   "outputs": [
    {
     "name": "stdout",
     "output_type": "stream",
     "text": [
      "Number of Apple Duplicates: 0\n",
      "\n",
      "\n",
      "Example of Apple Duplicates: []\n",
      "\n",
      "\n",
      "Number of Google Duplicates: 1181\n",
      "\n",
      "\n",
      "Example of Google Duplicates: ['Quick PDF Scanner + OCR FREE', 'Box', 'Google My Business', 'ZOOM Cloud Meetings', 'join.me - Simple Meetings']\n"
     ]
    }
   ],
   "source": [
    "def duplicated_check(dataset, index):\n",
    "    duplicated_apps = []\n",
    "    unique_apps = []\n",
    "\n",
    "    for row in dataset:\n",
    "        name = row[index]\n",
    "        if name in unique_apps:\n",
    "        ## if the name has already listed in unique_apps, then all into duplicated apps\n",
    "            duplicated_apps.append(name)\n",
    "        else: \n",
    "            unique_apps.append(name)\n",
    "        \n",
    "    return duplicated_apps\n",
    "# Check for duplicates in both the datasets\n",
    "apple_duplicates = duplicated_check(apple_apps, 0)\n",
    "google_duplicates = duplicated_check(google_apps, 0)\n",
    "\n",
    "print('Number of Apple Duplicates:', len(apple_duplicates))\n",
    "print('\\n')\n",
    "print('Example of Apple Duplicates:', (apple_duplicates)[:5])\n",
    "print('\\n')\n",
    "print('Number of Google Duplicates:', len(google_duplicates))\n",
    "print('\\n')\n",
    "print('Example of Google Duplicates:', (google_duplicates)[:5])"
   ]
  },
  {
   "cell_type": "markdown",
   "id": "c4febc3a-5af6-428e-b673-38437eda3980",
   "metadata": {},
   "source": [
    "we can see that there is **1,181** cases of duplicates in `google_apps` dataset"
   ]
  },
  {
   "cell_type": "markdown",
   "id": "f3da5894-a8d2-4cf0-875a-0a61ceb85aad",
   "metadata": {},
   "source": [
    "Based on the findings, we should remove the duplicate entries and keep only one entry per app. But we should look into which entry to remove. \n",
    "If we look into the **Instagram** duplicate entries above, we can see that there are differences between reviews. For the sake of accuracies and reliability, \n",
    "we will keep only the entries with highest number of reviews. "
   ]
  },
  {
   "cell_type": "markdown",
   "id": "4923a929-5e5d-481d-b664-a262297abb1f",
   "metadata": {},
   "source": [
    "#### Part Two\n",
    "\n",
    "We will first start by building a dictionary. The purpose of the dictionary is to hold the unique app names with highest review ratings. We first start by building a loop. The `if` statement used to ensure that `reviews_max` always holds the highest number of reviews encountered for each app. It updates the value with the higher review count. The `elif` statement on the other hand, checks if the app name is not already a key in the `reviews_max` dictionary, and adds a new entry when it detects it. \n",
    "\n",
    "\n",
    "\n",
    "\n",
    "\n"
   ]
  },
  {
   "cell_type": "code",
   "execution_count": 27,
   "id": "de0406bb-3fc9-4d00-b2fc-ca4ff7a7ca6c",
   "metadata": {},
   "outputs": [],
   "source": [
    "reviews_max = {}\n",
    "for app in google_apps:\n",
    "    name = app[0]\n",
    "    n_reviews = float(app[3])\n",
    "\n",
    "    if name in reviews_max and reviews_max[name] < n_reviews:\n",
    "        reviews_max[name] = n_reviews\n",
    "\n",
    "    elif name not in reviews_max:\n",
    "        reviews_max[name] = n_reviews\n",
    "        "
   ]
  },
  {
   "cell_type": "markdown",
   "id": "420c4ab4-78d2-41b6-8677-a0636e2ea851",
   "metadata": {},
   "source": [
    "In a previous code cell, we found that there are 1,181 cases where an app occurs more than once, so the length of our dictionary (of unique apps) should be equal to the difference between the length of our data set and 1,180."
   ]
  },
  {
   "cell_type": "code",
   "execution_count": 29,
   "id": "240463fa-9626-4145-928a-e3b9ba0e2da6",
   "metadata": {},
   "outputs": [
    {
     "name": "stdout",
     "output_type": "stream",
     "text": [
      "Expected length: 9659\n",
      "actual length: 9659\n"
     ]
    }
   ],
   "source": [
    "print('Expected length:', len(google_apps) - 1181)\n",
    "print('actual length:', len(reviews_max))"
   ]
  },
  {
   "cell_type": "code",
   "execution_count": 30,
   "id": "b55e4b1c-5c15-4bfa-b4ea-9312e97552e3",
   "metadata": {},
   "outputs": [],
   "source": [
    "google_clean = []\n",
    "already_added = []\n",
    "\n",
    "for app in google_apps:\n",
    "    name = app[0]\n",
    "    n_reviews = float(app[3])\n",
    "    if (reviews_max[name] == n_reviews) and (name not in already_added):\n",
    "        google_clean.append(app)\n",
    "        already_added.append(name)"
   ]
  },
  {
   "cell_type": "markdown",
   "id": "91916eae-ac0d-42e7-9060-c9d1eee52fd7",
   "metadata": {},
   "source": [
    "The loop will add the current row (app) into the list `google_clean` if the reviews of the app matches the description in `reviews_max`. The already added list accounts for the apps that have the same number of reviews with multiple entries."
   ]
  },
  {
   "cell_type": "code",
   "execution_count": 32,
   "id": "556ce6fd-85af-42f4-9cb2-20d4db30a2ab",
   "metadata": {},
   "outputs": [
    {
     "name": "stdout",
     "output_type": "stream",
     "text": [
      "['Photo Editor & Candy Camera & Grid & ScrapBook', 'ART_AND_DESIGN', '4.1', '159', '19M', '10,000+', 'Free', '0', 'Everyone', 'Art & Design', 'January 7, 2018', '1.0.0', '4.0.3 and up']\n",
      "\n",
      "\n",
      "['U Launcher Lite – FREE Live Cool Themes, Hide Apps', 'ART_AND_DESIGN', '4.7', '87510', '8.7M', '5,000,000+', 'Free', '0', 'Everyone', 'Art & Design', 'August 1, 2018', '1.2.4', '4.0.3 and up']\n",
      "\n",
      "\n",
      "['Sketch - Draw & Paint', 'ART_AND_DESIGN', '4.5', '215644', '25M', '50,000,000+', 'Free', '0', 'Teen', 'Art & Design', 'June 8, 2018', 'Varies with device', '4.2 and up']\n",
      "\n",
      "\n",
      "['Pixel Draw - Number Art Coloring Book', 'ART_AND_DESIGN', '4.3', '967', '2.8M', '100,000+', 'Free', '0', 'Everyone', 'Art & Design;Creativity', 'June 20, 2018', '1.1', '4.4 and up']\n",
      "\n",
      "\n",
      "['Paper flowers instructions', 'ART_AND_DESIGN', '4.4', '167', '5.6M', '50,000+', 'Free', '0', 'Everyone', 'Art & Design', 'March 26, 2017', '1.0', '2.3 and up']\n",
      "\n",
      "\n",
      "Number of rows: 9659\n",
      "Number of column: 13\n",
      "\n",
      "\n",
      "Actual Length: 9659\n"
     ]
    }
   ],
   "source": [
    "explore_data(google_clean,0,5,True)\n",
    "print('\\n')\n",
    "print('Actual Length:',len(reviews_max))"
   ]
  },
  {
   "cell_type": "markdown",
   "id": "f4c7b2b0-add7-4091-8f6f-9782d42053e0",
   "metadata": {},
   "source": [
    "## Remove Non English apps\n",
    "#### Part One\n",
    "\n",
    "There are some names of the apps that are not written in english. Below, we can see a few example\n"
   ]
  },
  {
   "cell_type": "code",
   "execution_count": 34,
   "id": "7ae2348b-3ade-4704-b05e-8169cca8c3f7",
   "metadata": {},
   "outputs": [
    {
     "name": "stdout",
     "output_type": "stream",
     "text": [
      "爱奇艺PPS -《欢乐颂2》电视剧热播\n",
      "【脱出ゲーム】絶対に最後までプレイしないで 〜謎解き＆ブロックパズル〜\n",
      "\n",
      "\n",
      "中国語 AQリスニング\n",
      "لعبة تقدر تربح DZ\n"
     ]
    }
   ],
   "source": [
    "print(apple_apps[813][1])\n",
    "print(apple_apps[6731][1])\n",
    "print('\\n')\n",
    "print(google_clean[4412][0])\n",
    "print(google_clean[7940][0])\n",
    "      "
   ]
  },
  {
   "cell_type": "markdown",
   "id": "5b5b9858-f0c6-4925-b817-d334382a042f",
   "metadata": {},
   "source": [
    "We're not interested in keeping these apps, so we'll remove them. One way to do this is to remove each app with a name containing a symbol that isn't commonly used in English text — English text usually includes letters from the English alphabet, numbers composed of digits from 0 to 9, punctuation marks (., !, ?, ;), and other symbols (+, *, /)."
   ]
  },
  {
   "cell_type": "markdown",
   "id": "042f2565-1bd3-49e5-afae-a36590f5abd2",
   "metadata": {},
   "source": [
    "In the function that we define below, we will use the `ord()` function to determine if the app name belongs to a set of common English character or not. According to [ASCII](https://en.wikipedia.org/wiki/ASCII), the characters that we commonly use in English text are all in the range 0 to 127. So, if an app name is greater than 127, then it probably means that the app has a non-English name. "
   ]
  },
  {
   "cell_type": "code",
   "execution_count": 37,
   "id": "cc57d383-38f4-4b99-b6d7-2e553f85a9c0",
   "metadata": {},
   "outputs": [
    {
     "name": "stdout",
     "output_type": "stream",
     "text": [
      "True\n",
      "False\n",
      "False\n",
      "False\n"
     ]
    }
   ],
   "source": [
    "def is_english(string):\n",
    "    for character in string:\n",
    "        if ord(character) > 127:\n",
    "            return False\n",
    "\n",
    "    return True\n",
    "\n",
    "print(is_english('Instagram'))\n",
    "print(is_english('爱奇艺PPS -《欢乐颂2》电视剧热播'))\n",
    "print(is_english('Docs To Go™ Free Office Suite'))\n",
    "print(is_english('Instachat 😜'))"
   ]
  },
  {
   "cell_type": "code",
   "execution_count": 38,
   "id": "21c83f1f-9495-4307-95db-e28f6bc89d00",
   "metadata": {},
   "outputs": [
    {
     "name": "stdout",
     "output_type": "stream",
     "text": [
      "128540\n",
      "8482\n"
     ]
    }
   ],
   "source": [
    "print(ord('😜'))\n",
    "print(ord('™'))"
   ]
  },
  {
   "cell_type": "markdown",
   "id": "970e5ea9-4ac6-406a-bbe9-02ce125b5881",
   "metadata": {},
   "source": [
    "However, the function also detects character such as `™` or emoji like `😜` outside of the range of 127. In this case, we will need to refine the function to include these apps for better accuracies."
   ]
  },
  {
   "cell_type": "code",
   "execution_count": 40,
   "id": "c6e2bd2e-0de8-4f1e-a6b6-e9f64b96e5c1",
   "metadata": {},
   "outputs": [
    {
     "name": "stdout",
     "output_type": "stream",
     "text": [
      "False\n",
      "True\n",
      "True\n"
     ]
    }
   ],
   "source": [
    "def is_english(string):\n",
    "    non_english_count = 0\n",
    "    \n",
    "    for character in string:\n",
    "        if ord(character) > 127:\n",
    "            non_english_count += 1\n",
    "            if non_english_count > 3:\n",
    "                return False\n",
    "\n",
    "    return True\n",
    "\n",
    "print(is_english('爱奇艺PPS -《欢乐颂2》电视剧热播'))\n",
    "print(is_english('Docs To Go™ Free Office Suite'))\n",
    "print(is_english('Instachat 😜'))"
   ]
  },
  {
   "cell_type": "markdown",
   "id": "bc5f9407-218b-44aa-9104-39bfadf6ee3d",
   "metadata": {},
   "source": [
    "Below, we used the `is_english` function to determine the English apps for both dataset"
   ]
  },
  {
   "cell_type": "code",
   "execution_count": 42,
   "id": "8b9c92ac-d4db-47bb-ada6-b7c50da20ca4",
   "metadata": {},
   "outputs": [
    {
     "name": "stdout",
     "output_type": "stream",
     "text": [
      "['Photo Editor & Candy Camera & Grid & ScrapBook', 'ART_AND_DESIGN', '4.1', '159', '19M', '10,000+', 'Free', '0', 'Everyone', 'Art & Design', 'January 7, 2018', '1.0.0', '4.0.3 and up']\n",
      "\n",
      "\n",
      "['U Launcher Lite – FREE Live Cool Themes, Hide Apps', 'ART_AND_DESIGN', '4.7', '87510', '8.7M', '5,000,000+', 'Free', '0', 'Everyone', 'Art & Design', 'August 1, 2018', '1.2.4', '4.0.3 and up']\n",
      "\n",
      "\n",
      "['Sketch - Draw & Paint', 'ART_AND_DESIGN', '4.5', '215644', '25M', '50,000,000+', 'Free', '0', 'Teen', 'Art & Design', 'June 8, 2018', 'Varies with device', '4.2 and up']\n",
      "\n",
      "\n",
      "['Pixel Draw - Number Art Coloring Book', 'ART_AND_DESIGN', '4.3', '967', '2.8M', '100,000+', 'Free', '0', 'Everyone', 'Art & Design;Creativity', 'June 20, 2018', '1.1', '4.4 and up']\n",
      "\n",
      "\n",
      "['Paper flowers instructions', 'ART_AND_DESIGN', '4.4', '167', '5.6M', '50,000+', 'Free', '0', 'Everyone', 'Art & Design', 'March 26, 2017', '1.0', '2.3 and up']\n",
      "\n",
      "\n",
      "Number of rows: 9614\n",
      "Number of column: 13\n",
      "\n",
      "\n",
      "['284882215', 'Facebook', '389879808', 'USD', '0.0', '2974676', '212', '3.5', '3.5', '95.0', '4+', 'Social Networking', '37', '1', '29', '1']\n",
      "\n",
      "\n",
      "['389801252', 'Instagram', '113954816', 'USD', '0.0', '2161558', '1289', '4.5', '4.0', '10.23', '12+', 'Photo & Video', '37', '0', '29', '1']\n",
      "\n",
      "\n",
      "['529479190', 'Clash of Clans', '116476928', 'USD', '0.0', '2130805', '579', '4.5', '4.5', '9.24.12', '9+', 'Games', '38', '5', '18', '1']\n",
      "\n",
      "\n",
      "['420009108', 'Temple Run', '65921024', 'USD', '0.0', '1724546', '3842', '4.5', '4.0', '1.6.2', '9+', 'Games', '40', '5', '1', '1']\n",
      "\n",
      "\n",
      "['284035177', 'Pandora - Music & Radio', '130242560', 'USD', '0.0', '1126879', '3594', '4.0', '4.5', '8.4.1', '12+', 'Music', '37', '4', '1', '1']\n",
      "\n",
      "\n",
      "Number of rows: 6183\n",
      "Number of column: 16\n"
     ]
    }
   ],
   "source": [
    "google_english = []\n",
    "apple_english = []\n",
    "\n",
    "for app in google_clean:\n",
    "    name = app[0]\n",
    "    if is_english(name):\n",
    "        ##it cant be \"if is_english(name) in google_clean, as it tries to find Boolean value in the list\n",
    "        google_english.append(app)\n",
    "\n",
    "for app in apple_apps:\n",
    "    name = app[1]\n",
    "    if is_english(name):\n",
    "        apple_english.append(app)\n",
    "\n",
    "explore_data(google_english,0,5,True)\n",
    "print('\\n')\n",
    "explore_data(apple_english,0,5,True)"
   ]
  },
  {
   "cell_type": "markdown",
   "id": "5cd17309-6e57-4a56-8aab-dbc80d512299",
   "metadata": {},
   "source": [
    "## Isolating Free Apps\n",
    "\n",
    "In the introduction, we have mentioned that the analysis only requires the free to download and install apps, and main source of revenue "
   ]
  },
  {
   "cell_type": "code",
   "execution_count": 44,
   "id": "62896cc7-cead-44f2-a1b6-9d0ece4bc03c",
   "metadata": {},
   "outputs": [
    {
     "name": "stdout",
     "output_type": "stream",
     "text": [
      "['284882215', 'Facebook', '389879808', 'USD', '0.0', '2974676', '212', '3.5', '3.5', '95.0', '4+', 'Social Networking', '37', '1', '29', '1']\n",
      "\n",
      "\n",
      "['389801252', 'Instagram', '113954816', 'USD', '0.0', '2161558', '1289', '4.5', '4.0', '10.23', '12+', 'Photo & Video', '37', '0', '29', '1']\n",
      "\n",
      "\n",
      "['529479190', 'Clash of Clans', '116476928', 'USD', '0.0', '2130805', '579', '4.5', '4.5', '9.24.12', '9+', 'Games', '38', '5', '18', '1']\n",
      "\n",
      "\n",
      "['420009108', 'Temple Run', '65921024', 'USD', '0.0', '1724546', '3842', '4.5', '4.0', '1.6.2', '9+', 'Games', '40', '5', '1', '1']\n",
      "\n",
      "\n",
      "['284035177', 'Pandora - Music & Radio', '130242560', 'USD', '0.0', '1126879', '3594', '4.0', '4.5', '8.4.1', '12+', 'Music', '37', '4', '1', '1']\n",
      "\n",
      "\n",
      "Number of rows: 3222\n",
      "Number of column: 16\n",
      "\n",
      "\n",
      "['Photo Editor & Candy Camera & Grid & ScrapBook', 'ART_AND_DESIGN', '4.1', '159', '19M', '10,000+', 'Free', '0', 'Everyone', 'Art & Design', 'January 7, 2018', '1.0.0', '4.0.3 and up']\n",
      "\n",
      "\n",
      "['U Launcher Lite – FREE Live Cool Themes, Hide Apps', 'ART_AND_DESIGN', '4.7', '87510', '8.7M', '5,000,000+', 'Free', '0', 'Everyone', 'Art & Design', 'August 1, 2018', '1.2.4', '4.0.3 and up']\n",
      "\n",
      "\n",
      "['Sketch - Draw & Paint', 'ART_AND_DESIGN', '4.5', '215644', '25M', '50,000,000+', 'Free', '0', 'Teen', 'Art & Design', 'June 8, 2018', 'Varies with device', '4.2 and up']\n",
      "\n",
      "\n",
      "['Pixel Draw - Number Art Coloring Book', 'ART_AND_DESIGN', '4.3', '967', '2.8M', '100,000+', 'Free', '0', 'Everyone', 'Art & Design;Creativity', 'June 20, 2018', '1.1', '4.4 and up']\n",
      "\n",
      "\n",
      "['Paper flowers instructions', 'ART_AND_DESIGN', '4.4', '167', '5.6M', '50,000+', 'Free', '0', 'Everyone', 'Art & Design', 'March 26, 2017', '1.0', '2.3 and up']\n",
      "\n",
      "\n",
      "Number of rows: 8864\n",
      "Number of column: 13\n"
     ]
    }
   ],
   "source": [
    "free_apple_apps = []\n",
    "free_google_apps = []\n",
    "\n",
    "for row in apple_english:\n",
    "    price = row[4]\n",
    "    if price == '0.0':\n",
    "        free_apple_apps.append(row)\n",
    "\n",
    "for row in google_english:\n",
    "    price = row[7]\n",
    "    if price == '0':\n",
    "        free_google_apps.append(row)\n",
    "\n",
    "explore_data(free_apple_apps,0,5,True)\n",
    "print('\\n')\n",
    "explore_data(free_google_apps,0,5,True)"
   ]
  },
  {
   "cell_type": "markdown",
   "id": "a1e956ee-8972-4d8d-87ea-60b9b7f38443",
   "metadata": {},
   "source": [
    "## Analysis\n",
    "\n",
    "### Most Common apps by Genre\n",
    "\n",
    "#### Part One\n",
    "\n",
    "As mentioned in the introduction, our goal is to determine the kinds of apps that are most likely to attract more users, as the number of people using the app directly correlates to the revenue. Therefore, we will look at successful app profiles that fit both the iOS and Andriod operating system, as it caters to more user base.\n",
    "\n",
    "To minimize risks and overhead, our validation strategy for an app idea is comprised into three steps:\n",
    "\n",
    "1. Build a minimal Android version of the app, and add it to Google Play.\n",
    "2. If the app has a good response from users, we develop it further.\n",
    "3. If the app is profitable after six months, we build an iOS version of the app and add it to the App Store.\n",
    "\n",
    "Because our end goal is to add the app on both the App Store and Google Play, we need to find app profiles that are successful on both markets. For instance, a profile that might work well for both markets might be a productivity app that makes use of gamification.\n",
    "\n",
    "Lets begin our analysis by inpecting both the dataset and identify columns that we could identify trends for most popular genres. For this, we'll build a frequency table for the `prime_genre` column of the App Store data set, and the `Genres` and `Category` columns of the Google Play data set.\n",
    "\n"
   ]
  },
  {
   "cell_type": "markdown",
   "id": "959cf971-f4cb-42a1-a74d-e9141d365d03",
   "metadata": {},
   "source": [
    "#### Part Two\n",
    "We'll build two functions we can use to analyze the frequency tables:\n",
    "\n",
    "1. One function to generate frequency tables that show percentages\n",
    "2. Another function that we can use to display the percentages in a descending order"
   ]
  },
  {
   "cell_type": "code",
   "execution_count": 47,
   "id": "37bae79e-af25-4736-a8a3-88b5c0a2cef4",
   "metadata": {},
   "outputs": [],
   "source": [
    "def freq_table(dataset, index):\n",
    "    table = {}\n",
    "    total = 0\n",
    "    \n",
    "    for row in dataset:\n",
    "        total += 1\n",
    "        value = row[index]\n",
    "        if value in table:\n",
    "            table[value] += 1\n",
    "        else:\n",
    "            table[value] = 1\n",
    "            \n",
    "    table_percentages = {}\n",
    "    for key in table:\n",
    "        percentage = (table[key] / total) * 100\n",
    "        table_percentages[key] = percentage\n",
    "        ## table_percentages[key] stores the percentage calculation to its corresponding key back into the dictionary\n",
    "\n",
    "    return table_percentages\n",
    "            \n",
    "def display_table(dataset, index):\n",
    "    table = freq_table(dataset, index)\n",
    "    table_display = []\n",
    "    for key in table:\n",
    "        key_val_as_tuple = (table[key], key)\n",
    "        table_display.append(key_val_as_tuple)\n",
    "\n",
    "    table_sorted = sorted(table_display, reverse = True)\n",
    "    for entry in table_sorted:\n",
    "        print(entry[1], ':', entry[0])"
   ]
  },
  {
   "cell_type": "markdown",
   "id": "78159d22-a874-466f-86a3-de23c302c268",
   "metadata": {},
   "source": [
    "#### Part Three\n",
    "\n",
    "We will examine the frequency table for `prime_genre` column of the App Store data set."
   ]
  },
  {
   "cell_type": "code",
   "execution_count": 49,
   "id": "4ce52713-4e70-4152-b1d9-23d4051ad6d5",
   "metadata": {},
   "outputs": [
    {
     "name": "stdout",
     "output_type": "stream",
     "text": [
      "PERCENTAGE OF \"PRIME GENRE\" IN APPLE APP STORE:\n",
      "\n",
      "Games : 58.16263190564867\n",
      "Entertainment : 7.883302296710118\n",
      "Photo & Video : 4.9658597144630665\n",
      "Education : 3.662321539416512\n",
      "Social Networking : 3.2898820608317814\n",
      "Shopping : 2.60707635009311\n",
      "Utilities : 2.5139664804469275\n",
      "Sports : 2.1415270018621975\n",
      "Music : 2.0484171322160147\n",
      "Health & Fitness : 2.0173805090006205\n",
      "Productivity : 1.7380509000620732\n",
      "Lifestyle : 1.5828677839851024\n",
      "News : 1.3345747982619491\n",
      "Travel : 1.2414649286157666\n",
      "Finance : 1.1173184357541899\n",
      "Weather : 0.8690254500310366\n",
      "Food & Drink : 0.8069522036002483\n",
      "Reference : 0.5586592178770949\n",
      "Business : 0.5276225946617008\n",
      "Book : 0.4345127250155183\n",
      "Navigation : 0.186219739292365\n",
      "Medical : 0.186219739292365\n",
      "Catalogs : 0.12414649286157665\n"
     ]
    }
   ],
   "source": [
    "print('PERCENTAGE OF \"PRIME GENRE\" IN APPLE APP STORE:'\"\\n\")\n",
    "display_table(free_apple_apps,(11))"
   ]
  },
  {
   "cell_type": "markdown",
   "id": "f2320505-28e2-4705-8f1f-334a0fbfefe0",
   "metadata": {},
   "source": [
    "In Apple dataset, we could conclude that the most common free app in `Prime_genre` is *Games*. Alone, it already takes up 58% of the entire free English app market in iOS. The next most common genre is *Entertainment*, which takes up about 7.88%. At a glance, the top categories in `prime_genre` are leaning more towards entertainment, with (Games, photo and videos, social networking, sports), while apps with practical purposes like (education, shopping, utilities, productivity, lifestyle) are rare. However, eventhough entertaining apps seem to have a big share of the pie, it doesn't imply that number of users directly correlate to it. Any recommendations will need further analysis and investigation on the dataset. \n",
    "\n",
    "We will continue by investigating the `Category` and `Genre` columns of Google Play dataset below:"
   ]
  },
  {
   "cell_type": "code",
   "execution_count": 51,
   "id": "e175325d-516c-44ce-a08f-29d299a1f2d1",
   "metadata": {},
   "outputs": [
    {
     "name": "stdout",
     "output_type": "stream",
     "text": [
      "PERCENTAGE OF \"CATEGORIES\" IN GOOGLE PLAYSTORE:\n",
      "\n",
      "FAMILY : 18.907942238267147\n",
      "GAME : 9.724729241877256\n",
      "TOOLS : 8.461191335740072\n",
      "BUSINESS : 4.591606498194946\n",
      "LIFESTYLE : 3.9034296028880866\n",
      "PRODUCTIVITY : 3.892148014440433\n",
      "FINANCE : 3.7003610108303246\n",
      "MEDICAL : 3.531137184115524\n",
      "SPORTS : 3.395758122743682\n",
      "PERSONALIZATION : 3.3167870036101084\n",
      "COMMUNICATION : 3.2378158844765346\n",
      "HEALTH_AND_FITNESS : 3.0798736462093865\n",
      "PHOTOGRAPHY : 2.944494584837545\n",
      "NEWS_AND_MAGAZINES : 2.7978339350180503\n",
      "SOCIAL : 2.6624548736462095\n",
      "TRAVEL_AND_LOCAL : 2.33528880866426\n",
      "SHOPPING : 2.2450361010830324\n",
      "BOOKS_AND_REFERENCE : 2.1435018050541514\n",
      "DATING : 1.861462093862816\n",
      "VIDEO_PLAYERS : 1.7937725631768955\n",
      "MAPS_AND_NAVIGATION : 1.3989169675090252\n",
      "FOOD_AND_DRINK : 1.2409747292418771\n",
      "EDUCATION : 1.1620036101083033\n",
      "ENTERTAINMENT : 0.9589350180505415\n",
      "LIBRARIES_AND_DEMO : 0.9363718411552346\n",
      "AUTO_AND_VEHICLES : 0.9250902527075812\n",
      "HOUSE_AND_HOME : 0.8235559566787004\n",
      "WEATHER : 0.8009927797833934\n",
      "EVENTS : 0.7107400722021661\n",
      "PARENTING : 0.6543321299638989\n",
      "ART_AND_DESIGN : 0.6430505415162455\n",
      "COMICS : 0.6204873646209386\n",
      "BEAUTY : 0.5979241877256317\n"
     ]
    }
   ],
   "source": [
    "print('PERCENTAGE OF \"CATEGORIES\" IN GOOGLE PLAYSTORE:'\"\\n\")\n",
    "display_table(free_google_apps,(1))"
   ]
  },
  {
   "cell_type": "markdown",
   "id": "01800b39-5ad4-4e79-b09b-4d89c8e01cbb",
   "metadata": {},
   "source": [
    "In the first glance, the `Category` column of google play dataset has **Family** as the most common category, taking up 18% of the total column, with **Game** at 9.72% and **Tools** at 8.46% following closely behind. The landscape seems significantly different in Google Play dataset, with good number of apps designed for practical purposes(family, tools, business, lifestyle, productivity). However, Upon checking, the **Family** Category (Which is now the **Kids** section in google playstore) consist of only apps that are appropriate for kids, that are mainly games for kids.\n",
    "\n",
    "![Kids Category](Apple_vs_Google_apps_Kids_Category.png)\n",
    "\n",
    "But looking at its entirety, the practical apps still seems to have better representation on Google Playstore than on Apple App Store. Eventhough our frequency table above has revealed the most frequent app genres by categories, it does not discuss what genres have the most users. Therefore, further analysis is still required for a recommendation for app profile. "
   ]
  },
  {
   "cell_type": "code",
   "execution_count": 53,
   "id": "b21fdc8b-e0ec-47fa-aeb4-19b859b41be5",
   "metadata": {},
   "outputs": [
    {
     "name": "stdout",
     "output_type": "stream",
     "text": [
      "PERCENTAGE OF \"GENRES\" IN GOOGLE PLAYSTORE:\n",
      "\n",
      "Tools : 8.449909747292418\n",
      "Entertainment : 6.069494584837545\n",
      "Education : 5.347472924187725\n",
      "Business : 4.591606498194946\n",
      "Productivity : 3.892148014440433\n",
      "Lifestyle : 3.892148014440433\n",
      "Finance : 3.7003610108303246\n",
      "Medical : 3.531137184115524\n",
      "Sports : 3.463447653429603\n",
      "Personalization : 3.3167870036101084\n",
      "Communication : 3.2378158844765346\n",
      "Action : 3.1024368231046933\n",
      "Health & Fitness : 3.0798736462093865\n",
      "Photography : 2.944494584837545\n",
      "News & Magazines : 2.7978339350180503\n",
      "Social : 2.6624548736462095\n",
      "Travel & Local : 2.3240072202166067\n",
      "Shopping : 2.2450361010830324\n",
      "Books & Reference : 2.1435018050541514\n",
      "Simulation : 2.0419675090252705\n",
      "Dating : 1.861462093862816\n",
      "Arcade : 1.8501805054151623\n",
      "Video Players & Editors : 1.7712093862815883\n",
      "Casual : 1.7599277978339352\n",
      "Maps & Navigation : 1.3989169675090252\n",
      "Food & Drink : 1.2409747292418771\n",
      "Puzzle : 1.128158844765343\n",
      "Racing : 0.9927797833935018\n",
      "Role Playing : 0.9363718411552346\n",
      "Libraries & Demo : 0.9363718411552346\n",
      "Auto & Vehicles : 0.9250902527075812\n",
      "Strategy : 0.9138086642599278\n",
      "House & Home : 0.8235559566787004\n",
      "Weather : 0.8009927797833934\n",
      "Events : 0.7107400722021661\n",
      "Adventure : 0.6768953068592057\n",
      "Comics : 0.6092057761732852\n",
      "Beauty : 0.5979241877256317\n",
      "Art & Design : 0.5979241877256317\n",
      "Parenting : 0.4963898916967509\n",
      "Card : 0.45126353790613716\n",
      "Casino : 0.42870036101083037\n",
      "Trivia : 0.41741877256317694\n",
      "Educational;Education : 0.39485559566787\n",
      "Board : 0.3835740072202166\n",
      "Educational : 0.3722924187725632\n",
      "Education;Education : 0.33844765342960287\n",
      "Word : 0.2594765342960289\n",
      "Casual;Pretend Play : 0.236913357400722\n",
      "Music : 0.2030685920577617\n",
      "Racing;Action & Adventure : 0.16922382671480143\n",
      "Puzzle;Brain Games : 0.16922382671480143\n",
      "Entertainment;Music & Video : 0.16922382671480143\n",
      "Casual;Brain Games : 0.13537906137184114\n",
      "Casual;Action & Adventure : 0.13537906137184114\n",
      "Arcade;Action & Adventure : 0.12409747292418773\n",
      "Action;Action & Adventure : 0.10153429602888085\n",
      "Educational;Pretend Play : 0.09025270758122744\n",
      "Simulation;Action & Adventure : 0.078971119133574\n",
      "Parenting;Education : 0.078971119133574\n",
      "Entertainment;Brain Games : 0.078971119133574\n",
      "Board;Brain Games : 0.078971119133574\n",
      "Parenting;Music & Video : 0.06768953068592057\n",
      "Educational;Brain Games : 0.06768953068592057\n",
      "Casual;Creativity : 0.06768953068592057\n",
      "Art & Design;Creativity : 0.06768953068592057\n",
      "Education;Pretend Play : 0.056407942238267145\n",
      "Role Playing;Pretend Play : 0.04512635379061372\n",
      "Education;Creativity : 0.04512635379061372\n",
      "Role Playing;Action & Adventure : 0.033844765342960284\n",
      "Puzzle;Action & Adventure : 0.033844765342960284\n",
      "Entertainment;Creativity : 0.033844765342960284\n",
      "Entertainment;Action & Adventure : 0.033844765342960284\n",
      "Educational;Creativity : 0.033844765342960284\n",
      "Educational;Action & Adventure : 0.033844765342960284\n",
      "Education;Music & Video : 0.033844765342960284\n",
      "Education;Brain Games : 0.033844765342960284\n",
      "Education;Action & Adventure : 0.033844765342960284\n",
      "Adventure;Action & Adventure : 0.033844765342960284\n",
      "Video Players & Editors;Music & Video : 0.02256317689530686\n",
      "Sports;Action & Adventure : 0.02256317689530686\n",
      "Simulation;Pretend Play : 0.02256317689530686\n",
      "Puzzle;Creativity : 0.02256317689530686\n",
      "Music;Music & Video : 0.02256317689530686\n",
      "Entertainment;Pretend Play : 0.02256317689530686\n",
      "Casual;Education : 0.02256317689530686\n",
      "Board;Action & Adventure : 0.02256317689530686\n",
      "Video Players & Editors;Creativity : 0.01128158844765343\n",
      "Trivia;Education : 0.01128158844765343\n",
      "Travel & Local;Action & Adventure : 0.01128158844765343\n",
      "Tools;Education : 0.01128158844765343\n",
      "Strategy;Education : 0.01128158844765343\n",
      "Strategy;Creativity : 0.01128158844765343\n",
      "Strategy;Action & Adventure : 0.01128158844765343\n",
      "Simulation;Education : 0.01128158844765343\n",
      "Role Playing;Brain Games : 0.01128158844765343\n",
      "Racing;Pretend Play : 0.01128158844765343\n",
      "Puzzle;Education : 0.01128158844765343\n",
      "Parenting;Brain Games : 0.01128158844765343\n",
      "Music & Audio;Music & Video : 0.01128158844765343\n",
      "Lifestyle;Pretend Play : 0.01128158844765343\n",
      "Lifestyle;Education : 0.01128158844765343\n",
      "Health & Fitness;Education : 0.01128158844765343\n",
      "Health & Fitness;Action & Adventure : 0.01128158844765343\n",
      "Entertainment;Education : 0.01128158844765343\n",
      "Communication;Creativity : 0.01128158844765343\n",
      "Comics;Creativity : 0.01128158844765343\n",
      "Casual;Music & Video : 0.01128158844765343\n",
      "Card;Action & Adventure : 0.01128158844765343\n",
      "Books & Reference;Education : 0.01128158844765343\n",
      "Art & Design;Pretend Play : 0.01128158844765343\n",
      "Art & Design;Action & Adventure : 0.01128158844765343\n",
      "Arcade;Pretend Play : 0.01128158844765343\n",
      "Adventure;Education : 0.01128158844765343\n"
     ]
    }
   ],
   "source": [
    "print('PERCENTAGE OF \"GENRES\" IN GOOGLE PLAYSTORE:'\"\\n\")\n",
    "display_table(free_google_apps,(9))"
   ]
  },
  {
   "cell_type": "markdown",
   "id": "4898b1fc-19e5-47c1-8ea2-9c018a298229",
   "metadata": {},
   "source": [
    "In `Genres` column of Google Play dataset, `Tools` takes the lead at 8.44%, while `Entertainment` is closely following behind. The percentage gap between these categories are relatively small. However, notice that the main categories are split into smaller groups of apps further down the list. For example, (*Educational;Creativity & Educational;Action & Adventure*), concluding that the `Genre` column is more detailed and specific. As we are not diving into the specifics in this study, we will move forward with just the `Category` column. "
   ]
  },
  {
   "cell_type": "markdown",
   "id": "52164aee-3674-436b-9ebd-0832aad2771c",
   "metadata": {},
   "source": [
    "## Most popular app by Genre in App Store\n",
    "\n",
    "One way to find out the most popular app is to find out the number of users it has for each app category. However, the column is missing in the `AppleStore.csv dataset`. To workaround this, we could use the total number of user ratings as a proxy, which can be found in the `rating_count_tot` column. \n",
    "\n",
    "we could start by getting the average ratings for each app category as shown below:"
   ]
  },
  {
   "cell_type": "code",
   "execution_count": 56,
   "id": "36fa6544-604b-4241-9be8-e1dd619e3225",
   "metadata": {},
   "outputs": [
    {
     "name": "stdout",
     "output_type": "stream",
     "text": [
      "Navigation : 86090.33333333333\n",
      "Reference : 74942.11111111111\n",
      "Social Networking : 71548.34905660378\n",
      "Music : 57326.530303030304\n",
      "Weather : 52279.892857142855\n",
      "Book : 39758.5\n",
      "Food & Drink : 33333.92307692308\n",
      "Finance : 31467.944444444445\n",
      "Photo & Video : 28441.54375\n",
      "Travel : 28243.8\n",
      "Shopping : 26919.690476190477\n",
      "Health & Fitness : 23298.015384615384\n",
      "Sports : 23008.898550724636\n",
      "Games : 22788.6696905016\n",
      "News : 21248.023255813954\n",
      "Productivity : 21028.410714285714\n",
      "Utilities : 18684.456790123455\n",
      "Lifestyle : 16485.764705882353\n",
      "Entertainment : 14029.830708661417\n",
      "Business : 7491.117647058823\n",
      "Education : 7003.983050847458\n",
      "Catalogs : 4004.0\n",
      "Medical : 612.0\n"
     ]
    }
   ],
   "source": [
    "genre_apple = freq_table(free_apple_apps, 11)\n",
    "table_display = []        \n",
    "\n",
    "##genre represents each key in genre_apple by default in python\n",
    "for genre in genre_apple:\n",
    "    total = 0\n",
    "    len_genre = 0\n",
    "    for app in free_apple_apps:\n",
    "        genre_app = app[11]\n",
    "        if genre_app == genre:\n",
    "            n_ratings = float(app[5])\n",
    "            total += n_ratings\n",
    "            len_genre += 1\n",
    "            \n",
    "    if len_genre > 0:\n",
    "        avg_n_ratings = total / len_genre\n",
    "        table_display.append((avg_n_ratings, genre))\n",
    "\n",
    "# Sort the list by average ratings in descending order\n",
    "table_sorted = sorted(table_display, reverse=True)\n",
    "\n",
    "# Print each entry with the genre and average ratings\n",
    "for entry in table_sorted:\n",
    "    print(entry[1], ':', entry[0])"
   ]
  },
  {
   "cell_type": "markdown",
   "id": "1cdcb62d-9043-40a6-a24d-36895d9db06c",
   "metadata": {},
   "source": [
    "On average, the highest rating count by category is **Navigation, Reference and Social Networking**. Lets find out which apps contributed the ratings for these category. Below, we will further conduct analysis on these categories:"
   ]
  },
  {
   "cell_type": "code",
   "execution_count": 58,
   "id": "796c76c3-10df-4669-9922-e58fbd4305cd",
   "metadata": {},
   "outputs": [
    {
     "name": "stdout",
     "output_type": "stream",
     "text": [
      "Waze - GPS Navigation, Maps & Real-time Traffic : 345046\n",
      "Google Maps - Navigation & Transit : 154911\n",
      "Geocaching® : 12811\n",
      "CoPilot GPS – Car Navigation & Offline Maps : 3582\n",
      "ImmobilienScout24: Real Estate Search in Germany : 187\n",
      "Railway Route Search : 5\n"
     ]
    }
   ],
   "source": [
    "for app in free_apple_apps:\n",
    "    if app[11] == 'Navigation':\n",
    "        print(app[1], ':', app[5])"
   ]
  },
  {
   "cell_type": "code",
   "execution_count": 59,
   "id": "5b1cbc9b-beb1-4424-b280-3a7b9b3d6ab7",
   "metadata": {},
   "outputs": [
    {
     "name": "stdout",
     "output_type": "stream",
     "text": [
      "Bible : 985920\n",
      "Dictionary.com Dictionary & Thesaurus : 200047\n",
      "Dictionary.com Dictionary & Thesaurus for iPad : 54175\n",
      "Google Translate : 26786\n",
      "Muslim Pro: Ramadan 2017 Prayer Times, Azan, Quran : 18418\n",
      "New Furniture Mods - Pocket Wiki & Game Tools for Minecraft PC Edition : 17588\n",
      "Merriam-Webster Dictionary : 16849\n",
      "Night Sky : 12122\n",
      "City Maps for Minecraft PE - The Best Maps for Minecraft Pocket Edition (MCPE) : 8535\n",
      "LUCKY BLOCK MOD ™ for Minecraft PC Edition - The Best Pocket Wiki & Mods Installer Tools : 4693\n",
      "GUNS MODS for Minecraft PC Edition - Mods Tools : 1497\n",
      "Guides for Pokémon GO - Pokemon GO News and Cheats : 826\n",
      "WWDC : 762\n",
      "Horror Maps for Minecraft PE - Download The Scariest Maps for Minecraft Pocket Edition (MCPE) Free : 718\n",
      "VPN Express : 14\n",
      "Real Bike Traffic Rider Virtual Reality Glasses : 8\n",
      "教えて!goo : 0\n",
      "Jishokun-Japanese English Dictionary & Translator : 0\n"
     ]
    }
   ],
   "source": [
    "for app in free_apple_apps:\n",
    "    if app[11] == 'Reference':\n",
    "        print(app[1], ':', app[5])"
   ]
  },
  {
   "cell_type": "code",
   "execution_count": 60,
   "id": "0596d848-564a-4719-9370-7d795cae0924",
   "metadata": {},
   "outputs": [
    {
     "name": "stdout",
     "output_type": "stream",
     "text": [
      "Facebook : 2974676\n",
      "Pinterest : 1061624\n",
      "Skype for iPhone : 373519\n",
      "Messenger : 351466\n",
      "Tumblr : 334293\n",
      "WhatsApp Messenger : 287589\n",
      "Kik : 260965\n",
      "ooVoo – Free Video Call, Text and Voice : 177501\n",
      "TextNow - Unlimited Text + Calls : 164963\n",
      "Viber Messenger – Text & Call : 164249\n",
      "Followers - Social Analytics For Instagram : 112778\n"
     ]
    }
   ],
   "source": [
    "for app in free_apple_apps:\n",
    "    if app[11] == 'Social Networking' and (float(app[5]) > 100000):\n",
    "        print(app[1], ':', app[5])\n"
   ]
  },
  {
   "cell_type": "markdown",
   "id": "4da1f3c9-ccd3-414e-b0d7-6daeb1607b4a",
   "metadata": {},
   "source": [
    "In Apple AppStore, the most user rated app is navigation with average number of rating at *86,090* and followed by Reference at *74,942*, and Social Networking at *71,548*. \n",
    "\n",
    "The top 2 in the first 3 of the list are more practical tools that are difficult to insert ads into. For instance, navigation apps emphasizes on user experience, so ads should not interfere with core functionality, such as real-time nagivation and map usage. Ads could also deemed as ineffective as navigation apps are not as interactive. We could also observe that the ratings in navigation category is highly skewed as most of the rating falls into the app: \"Waze\" and \"Google Maps\", while the apps below struggles to even get more than 10,000 ratings.\n",
    "\n",
    "As for reference apps, users mainly use these apps to receive information or educational content, we need to ensure that ads do not distrupt the user's ability to access and consume content. Also, placing an ad in Reference type app would need for it to be relevant to the content or educational value of the app to avoid distruption of content consumption. I would also like to discuss on the average rating for reference apps in App Store. In this category, the same pattern from Navigation category could be observed, with \"Bible\" app being the outlier with over 900,000 ratings, which skew up the average rating.\n",
    "\n",
    "In App Store, the average ratings on Social Networking app category seems heavily skewed with tech giants such as Facebook, Pinterest, Tumblr, Whatsapp and etc. Even though Social networking apps are highly interactive, with great users engagement, this category seems to be oversaturated and heavily infleunced by these app giants. \n",
    "\n",
    "However, the **Shopping** category seems to show some potential, as the nature of *shopping* category seems to fit into the criteria of being highly interactive and easily integrating ads into the apps. Lets take a look on the category. "
   ]
  },
  {
   "cell_type": "code",
   "execution_count": 62,
   "id": "62b46040-1a03-4c5a-b408-a8144873d2f6",
   "metadata": {},
   "outputs": [
    {
     "name": "stdout",
     "output_type": "stream",
     "text": [
      "Groupon - Deals, Coupons & Discount Shopping App : 417779\n",
      "eBay: Best App to Buy, Sell, Save! Online Shopping : 262241\n",
      "Wish - Shopping Made Fun : 141960\n",
      "shopkick - Shopping Rewards & Discounts : 130823\n",
      "Amazon App: shop, scan, compare, and read reviews : 126312\n",
      "Target : 108131\n",
      "Zappos: shop shoes & clothes, fast free shipping : 103655\n"
     ]
    }
   ],
   "source": [
    "for app in free_apple_apps:\n",
    "    if app[11] == 'Shopping' and (float(app[5]) > 100000):\n",
    "        print(app[1], ':', app[5])"
   ]
  },
  {
   "cell_type": "markdown",
   "id": "db1fccb6-5a68-4076-92a3-7bf7cbcd0dc3",
   "metadata": {},
   "source": [
    "It looks like there is only a few popular apps, with popular apps' rating generally below 200,000. So, this market still shows some potential.\n",
    "\n",
    "In essence, shopping app would provide the most value for in app ads. Ads can be easily integrated into shopping apps using formats like banner ads, interstitial ads, native ads, and video ads. These ads generate additional revenue, enhance user engagement, and can be tailored to match the app’s design and user preferences. In contrast, navigation and references apps require a more cautious approach to ensure ads do not distrupt the core functionalities of the app, while social networking apps seem to be oversaturated and dominated by tech giant apps at the moment. \n",
    "\n",
    "This idea of fitting ads into shopping app category may fit well as App Store is mainly dominated with for-fun apps. So a shopping app may seem to cater to the user base of App Store. Also, user base of shopping apps typically has a mindset oriented toward spending money when using the app. Users generally visit shopping apps with the intent to browse, compare, and purchase products, making them more receptive to spending. These apps are designed to facilitate and encourage purchases through features like personalized recommendations, discounts, and seamless checkout processes. wWen in app ads are done thoughtfully, integrating ads into shopping apps can enhance conversion rates and user retention by providing value-added content and personalized offers.\n",
    "\n",
    "Now lets look at the popular app genre of Google Play Store. "
   ]
  },
  {
   "cell_type": "markdown",
   "id": "ced422c0-822d-4ab2-a467-1279ad688e34",
   "metadata": {},
   "source": [
    "## Most popular app by Genre in Google Play Store\n",
    "\n",
    "Now lets find out the most popular app in Google PlayStore. We have the number of users column under `Install` in the Google Playstore dataset. Let's check it out by using the `display_table()` function."
   ]
  },
  {
   "cell_type": "code",
   "execution_count": 65,
   "id": "d442a650-d511-409a-a94c-407793a37ce8",
   "metadata": {},
   "outputs": [
    {
     "name": "stdout",
     "output_type": "stream",
     "text": [
      "1,000,000+ : 15.726534296028879\n",
      "100,000+ : 11.552346570397113\n",
      "10,000,000+ : 10.548285198555957\n",
      "10,000+ : 10.198555956678701\n",
      "1,000+ : 8.393501805054152\n",
      "100+ : 6.915613718411552\n",
      "5,000,000+ : 6.825361010830325\n",
      "500,000+ : 5.561823104693141\n",
      "50,000+ : 4.7721119133574\n",
      "5,000+ : 4.512635379061372\n",
      "10+ : 3.5424187725631766\n",
      "500+ : 3.2490974729241873\n",
      "50,000,000+ : 2.3014440433213\n",
      "100,000,000+ : 2.1322202166064983\n",
      "50+ : 1.917870036101083\n",
      "5+ : 0.78971119133574\n",
      "1+ : 0.5076714801444043\n",
      "500,000,000+ : 0.2707581227436823\n",
      "1,000,000,000+ : 0.22563176895306858\n",
      "0+ : 0.04512635379061372\n",
      "0 : 0.01128158844765343\n"
     ]
    }
   ],
   "source": [
    "display_table(free_google_apps, 5)"
   ]
  },
  {
   "cell_type": "markdown",
   "id": "af66dc84-2bb0-456c-93dd-4c89b57912f7",
   "metadata": {},
   "source": [
    "However, the values given in the dataset is not absolute, and is also a string. For example, `1,000,000+` does not precisely list out the exact number of installs. But since we don't need very precise data for our purposes — we only want to find out which app genres attract the most users. This means that we'll need to convert each install number from a string to a float. This means we need to remove the commas and the plus characters, or the conversion will fail and cause an error."
   ]
  },
  {
   "cell_type": "code",
   "execution_count": 67,
   "id": "ad5bbf1c-7364-4687-89bd-eed61c65e259",
   "metadata": {},
   "outputs": [
    {
     "name": "stdout",
     "output_type": "stream",
     "text": [
      "COMMUNICATION : 38456119.167247385\n",
      "VIDEO_PLAYERS : 24727872.452830188\n",
      "SOCIAL : 23253652.127118643\n",
      "PHOTOGRAPHY : 17840110.40229885\n",
      "PRODUCTIVITY : 16787331.344927534\n",
      "GAME : 15588015.603248259\n",
      "TRAVEL_AND_LOCAL : 13984077.710144928\n",
      "ENTERTAINMENT : 11640705.88235294\n",
      "TOOLS : 10801391.298666667\n",
      "NEWS_AND_MAGAZINES : 9549178.467741935\n",
      "BOOKS_AND_REFERENCE : 8767811.894736841\n",
      "SHOPPING : 7036877.311557789\n",
      "PERSONALIZATION : 5201482.6122448975\n",
      "WEATHER : 5074486.197183099\n",
      "HEALTH_AND_FITNESS : 4188821.9853479853\n",
      "MAPS_AND_NAVIGATION : 4056941.7741935486\n",
      "FAMILY : 3695641.8198090694\n",
      "SPORTS : 3638640.1428571427\n",
      "ART_AND_DESIGN : 1986335.0877192982\n",
      "FOOD_AND_DRINK : 1924897.7363636363\n",
      "EDUCATION : 1833495.145631068\n",
      "BUSINESS : 1712290.1474201474\n",
      "LIFESTYLE : 1437816.2687861272\n",
      "FINANCE : 1387692.475609756\n",
      "HOUSE_AND_HOME : 1331540.5616438356\n",
      "DATING : 854028.8303030303\n",
      "COMICS : 817657.2727272727\n",
      "AUTO_AND_VEHICLES : 647317.8170731707\n",
      "LIBRARIES_AND_DEMO : 638503.734939759\n",
      "PARENTING : 542603.6206896552\n",
      "BEAUTY : 513151.88679245283\n",
      "EVENTS : 253542.22222222222\n",
      "MEDICAL : 120550.61980830671\n"
     ]
    }
   ],
   "source": [
    "google_category = freq_table(free_google_apps, 1)\n",
    "google_display = []\n",
    "\n",
    "for genre in google_category:\n",
    "    total = 0\n",
    "    len_category = 0\n",
    "    for app in free_google_apps:\n",
    "        category = app[1]\n",
    "        if category == genre:\n",
    "            n_installs = app[5]\n",
    "            n_installs = n_installs.replace('+', '')\n",
    "            n_installs = n_installs.replace(',', '')\n",
    "            total += float(n_installs)\n",
    "            len_category += 1\n",
    "            \n",
    "    if len_category > 0:\n",
    "        avg_n_installs = total / len_category\n",
    "        google_display.append((avg_n_installs, genre))\n",
    "\n",
    "google_sorted = sorted(google_display, reverse = True)\n",
    "\n",
    "for entry in google_sorted:\n",
    "    print(entry[1], ':', entry[0])"
   ]
  },
  {
   "cell_type": "markdown",
   "id": "456fd846-7cf3-42f0-bff0-d9af9b682639",
   "metadata": {},
   "source": [
    "The top 3 categories of most installed apps are **COMMUNICATION**, **VIDEO_PLAYERS**, and **SOCIAL**. However, these apps might be skewed as some of the biggest apps are in these categories. We will further analyse **COMMUNICATION** app category below:"
   ]
  },
  {
   "cell_type": "code",
   "execution_count": 69,
   "id": "fbab789d-494b-4de4-982c-95608d78160b",
   "metadata": {},
   "outputs": [
    {
     "name": "stdout",
     "output_type": "stream",
     "text": [
      "WhatsApp Messenger : 1,000,000,000+\n",
      "imo beta free calls and text : 100,000,000+\n",
      "Android Messages : 100,000,000+\n",
      "Google Duo - High Quality Video Calls : 500,000,000+\n",
      "Messenger – Text and Video Chat for Free : 1,000,000,000+\n",
      "imo free video calls and chat : 500,000,000+\n",
      "Skype - free IM & video calls : 1,000,000,000+\n",
      "Who : 100,000,000+\n",
      "GO SMS Pro - Messenger, Free Themes, Emoji : 100,000,000+\n",
      "LINE: Free Calls & Messages : 500,000,000+\n",
      "Google Chrome: Fast & Secure : 1,000,000,000+\n",
      "Firefox Browser fast & private : 100,000,000+\n",
      "UC Browser - Fast Download Private & Secure : 500,000,000+\n",
      "Gmail : 1,000,000,000+\n",
      "Hangouts : 1,000,000,000+\n",
      "Messenger Lite: Free Calls & Messages : 100,000,000+\n",
      "Kik : 100,000,000+\n",
      "KakaoTalk: Free Calls & Text : 100,000,000+\n",
      "Opera Mini - fast web browser : 100,000,000+\n",
      "Opera Browser: Fast and Secure : 100,000,000+\n",
      "Telegram : 100,000,000+\n",
      "Truecaller: Caller ID, SMS spam blocking & Dialer : 100,000,000+\n",
      "UC Browser Mini -Tiny Fast Private & Secure : 100,000,000+\n",
      "Viber Messenger : 500,000,000+\n",
      "WeChat : 100,000,000+\n",
      "Yahoo Mail – Stay Organized : 100,000,000+\n",
      "BBM - Free Calls & Messages : 100,000,000+\n"
     ]
    }
   ],
   "source": [
    "for app in free_google_apps:\n",
    "    if app[1] == 'COMMUNICATION' and (app[5] == '1,000,000,000+' or\n",
    "                                      app[5] == '500,000,000+' or\n",
    "                                      app[5] == '100,000,000+'):\n",
    "        print(app[0], ':', app[5])"
   ]
  },
  {
   "cell_type": "code",
   "execution_count": 70,
   "id": "4d2b0266-cc02-4997-90c2-69d1ef50d167",
   "metadata": {},
   "outputs": [
    {
     "name": "stdout",
     "output_type": "stream",
     "text": [
      "COMMUNICATION APPS AVERAGE UNDER 100M: 3603485.3884615386\n",
      "\n",
      "\n",
      "COMMUNICATION : 38456119.167247385\n"
     ]
    }
   ],
   "source": [
    "under_100m_communication = []\n",
    "for app in free_google_apps:\n",
    "    n_installs = app[5]\n",
    "    n_installs = n_installs.replace('+', '')\n",
    "    n_installs = n_installs.replace(',', '')\n",
    "    if (app[1] == 'COMMUNICATION') and (float(n_installs) <100000000):\n",
    "        under_100m_communication.append(float(n_installs))\n",
    "\n",
    "print('COMMUNICATION APPS AVERAGE UNDER 100M:',sum(under_100m_communication) / len (under_100m_communication))\n",
    "print('\\n')\n",
    "first_entry = google_sorted[0]\n",
    "print(first_entry[1], ':', first_entry[0])"
   ]
  },
  {
   "cell_type": "markdown",
   "id": "c3d34a47-1bc4-4edf-a5aa-4c79cf275776",
   "metadata": {},
   "source": [
    "Even though the **COMMUNICATION** category has the highest average downloads, When results of installs over 100 millions are taken out, the average falls to *3.6 Million* from *38 Million* average downloads. This is due to apps like WhatsApp, Facebook Messenger, Skype, Google Chrome, Gmail, and Hangouts gathering on average over 1 billion downloads, thus heavily skewing the result of average app downloads. \n",
    "\n",
    "Now, lets look at **VIDEO_PLAYERS** category."
   ]
  },
  {
   "cell_type": "code",
   "execution_count": 72,
   "id": "791ddccb-1536-4e26-8130-627a92843d3c",
   "metadata": {},
   "outputs": [
    {
     "name": "stdout",
     "output_type": "stream",
     "text": [
      "YouTube : 1,000,000,000+\n",
      "Motorola Gallery : 100,000,000+\n",
      "VLC for Android : 100,000,000+\n",
      "Google Play Movies & TV : 1,000,000,000+\n",
      "MX Player : 500,000,000+\n",
      "Dubsmash : 100,000,000+\n",
      "VivaVideo - Video Editor & Photo Movie : 100,000,000+\n",
      "VideoShow-Video Editor, Video Maker, Beauty Camera : 100,000,000+\n",
      "Motorola FM Radio : 100,000,000+\n"
     ]
    }
   ],
   "source": [
    "for app in free_google_apps:\n",
    "    if app[1] == 'VIDEO_PLAYERS' and (app[5] == '1,000,000,000+' or\n",
    "                                      app[5] == '500,000,000+' or\n",
    "                                      app[5] == '100,000,000+'):\n",
    "        print(app[0], ':', app[5])"
   ]
  },
  {
   "cell_type": "code",
   "execution_count": 73,
   "id": "290af2f8-6ac8-4ee9-b669-7701b7f22657",
   "metadata": {},
   "outputs": [
    {
     "name": "stdout",
     "output_type": "stream",
     "text": [
      "VIDEO_PLAYERS APPS AVERAGE UNDER 100M: 5544878.133333334\n",
      "\n",
      "\n",
      "VIDEO_PLAYERS : 24727872.452830188\n"
     ]
    }
   ],
   "source": [
    "under_100m_vid = []\n",
    "for app in free_google_apps:\n",
    "    n_installs = app[5]\n",
    "    n_installs = n_installs.replace('+', '')\n",
    "    n_installs = n_installs.replace(',', '')\n",
    "    if (app[1] == 'VIDEO_PLAYERS') and (float(n_installs) <100000000):\n",
    "        under_100m_vid.append(float(n_installs))\n",
    "\n",
    "print('VIDEO_PLAYERS APPS AVERAGE UNDER 100M:',sum(under_100m_vid) / len (under_100m_vid))\n",
    "print('\\n')\n",
    "first_entry = google_sorted[1]\n",
    "print(first_entry[1], ':', first_entry[0])"
   ]
  },
  {
   "cell_type": "markdown",
   "id": "1a150332-0e82-47b5-94d5-d940967851fe",
   "metadata": {},
   "source": [
    "As shown above, the deviation when apps above 100 million downloads (YouTube, Google Play Movies & TV, and MX Player) are taken out, the average falls to *5.5 Million* from *24 Million* which suggests that the result is skewed.\n",
    "\n",
    "Now we look at **SOCIAL** category."
   ]
  },
  {
   "cell_type": "code",
   "execution_count": 75,
   "id": "58614778-4b46-414b-aa32-8eab62504a23",
   "metadata": {},
   "outputs": [
    {
     "name": "stdout",
     "output_type": "stream",
     "text": [
      "Facebook : 1,000,000,000+\n",
      "Facebook Lite : 500,000,000+\n",
      "Tumblr : 100,000,000+\n",
      "Pinterest : 100,000,000+\n",
      "Google+ : 1,000,000,000+\n",
      "Badoo - Free Chat & Dating App : 100,000,000+\n",
      "Tango - Live Video Broadcast : 100,000,000+\n",
      "Instagram : 1,000,000,000+\n",
      "Snapchat : 500,000,000+\n",
      "LinkedIn : 100,000,000+\n",
      "Tik Tok - including musical.ly : 100,000,000+\n",
      "BIGO LIVE - Live Stream : 100,000,000+\n",
      "VK : 100,000,000+\n"
     ]
    }
   ],
   "source": [
    "for app in free_google_apps:\n",
    "    if app[1] == 'SOCIAL' and (app[5] == '1,000,000,000+' or\n",
    "                                app[5] == '500,000,000+' or\n",
    "                                app[5] == '100,000,000+'):\n",
    "        print(app[0], ':', app[5])"
   ]
  },
  {
   "cell_type": "code",
   "execution_count": 76,
   "id": "4d4108f5-6311-43c2-8046-b19b5c39805f",
   "metadata": {},
   "outputs": [
    {
     "name": "stdout",
     "output_type": "stream",
     "text": [
      "SOCIAL APPS AVERAGE UNDER 100M: 3084582.5201793723\n",
      "\n",
      "\n",
      "SOCIAL : 23253652.127118643\n"
     ]
    }
   ],
   "source": [
    "under_100m_social = []\n",
    "for app in free_google_apps:\n",
    "    n_installs = app[5]\n",
    "    n_installs = n_installs.replace('+', '')\n",
    "    n_installs = n_installs.replace(',', '')\n",
    "    if (app[1] == 'SOCIAL') and (float(n_installs) <100000000):\n",
    "        under_100m_social.append(float(n_installs))\n",
    "\n",
    "print('SOCIAL APPS AVERAGE UNDER 100M:',sum(under_100m_social) / len (under_100m_social))\n",
    "print('\\n')\n",
    "first_entry = google_sorted[2]\n",
    "print(first_entry[1], ':', first_entry[0])"
   ]
  },
  {
   "cell_type": "markdown",
   "id": "f8e6ead7-b117-42d2-bdc3-a9d1e6ff7982",
   "metadata": {},
   "source": [
    "As suggested, the same pattern from **COMMUNICATION** and **VIDEO_PLAYERS** app can be seen for **SOCIAL** apps, which decreases to *3 Million* from *23 Million*. \n",
    "\n",
    "We see the same pattern for the top 3 categories. The market seems to be dominated by apps like Youtube, Google Play Movies & TV, or MX Player. The pattern is repeated for social apps (where we have giants like Facebook, Instagram, Google+, etc.), photography apps (Google Photos and other popular photo editors), or productivity apps (Microsoft Word, Dropbox, Google Calendar, Evernote, etc.).\n",
    "\n",
    "Again, the main concern is that these app genres might seem more popular than they really are. Moreover, these niches seem to be dominated by a few giants who are hard to compete against.\n",
    "\n",
    "However, looking at the trend, the pattern for **SHOPPING** app category seems to be have a fair number of installs at 7,036,877. The shopping category is also a highly interactive app, with users who are looking to spend money. "
   ]
  },
  {
   "cell_type": "code",
   "execution_count": 78,
   "id": "649c3d9b-c7ac-42ce-b868-25945d5d1887",
   "metadata": {},
   "outputs": [
    {
     "name": "stdout",
     "output_type": "stream",
     "text": [
      "eBay: Buy & Sell this Summer - Discover Deals Now! : 100,000,000+\n",
      "Amazon Shopping : 100,000,000+\n",
      "Flipkart Online Shopping App : 100,000,000+\n",
      "AliExpress - Smarter Shopping, Better Living : 100,000,000+\n",
      "Wish - Shopping Made Fun : 100,000,000+\n"
     ]
    }
   ],
   "source": [
    "for app in free_google_apps:\n",
    "    if app[1] == 'SHOPPING' and (app[5] == '1,000,000,000+' or \n",
    "                                      app[5] == '500,000,000+' or\n",
    "                                      app[5] == '100,000,000+'):\n",
    "        print(app[0], ':', app[5])"
   ]
  },
  {
   "cell_type": "markdown",
   "id": "0ccbb24e-199e-4db6-b595-585cba35b62a",
   "metadata": {},
   "source": [
    "However, it seems that only a few apps dominate in popularity, indicating that this market still has growth potential. Let's explore app ideas by focusing on those that fall in the mid-range of popularity, with downloads between 1,000,000 and 100,000,000."
   ]
  },
  {
   "cell_type": "code",
   "execution_count": 80,
   "id": "372bfc8f-b01e-47a4-ac11-0b2d543d13be",
   "metadata": {},
   "outputs": [
    {
     "name": "stdout",
     "output_type": "stream",
     "text": [
      "Amazon for Tablets : 10,000,000+\n",
      "OfferUp - Buy. Sell. Offer Up : 10,000,000+\n",
      "Shopee - No. 1 Online Shopping : 10,000,000+\n",
      "Shopee: No.1 Online Shopping : 10,000,000+\n",
      "Kroger : 5,000,000+\n",
      "Walmart : 10,000,000+\n",
      "letgo: Buy & Sell Used Stuff, Cars & Real Estate : 50,000,000+\n",
      "Lazada - Online Shopping & Deals : 50,000,000+\n",
      "OLX - Buy and Sell : 50,000,000+\n",
      "The wall : 1,000,000+\n",
      "Flipp - Weekly Shopping : 10,000,000+\n",
      "Shrimp skin shopping: spend less, buy better : 5,000,000+\n",
      "Lotte Home Shopping LOTTE Homeshopping : 5,000,000+\n",
      "Horn, free country requirements : 1,000,000+\n",
      "Jiji.ng : 1,000,000+\n",
      "GS SHOP : 10,000,000+\n",
      "The birth : 50,000,000+\n",
      "Home & Shopping - Only in apps. 10% off + 10% off : 10,000,000+\n",
      "EHS Dongsen Shopping : 1,000,000+\n",
      "bigbasket - online grocery : 5,000,000+\n",
      "Bukalapak - Buy and Sell Online : 10,000,000+\n",
      "Life market : 1,000,000+\n",
      "Jabong Online Shopping App : 10,000,000+\n",
      "Family Dollar : 1,000,000+\n",
      "Jumia online shopping : 10,000,000+\n",
      "Mercado Libre: Find your favorite brands : 50,000,000+\n",
      "Carousell: Snap-Sell, Chat-Buy : 10,000,000+\n",
      "Blibli.com Online Shopping : 10,000,000+\n",
      "Club Factory Everything, Unbeaten Price : 10,000,000+\n",
      "Real Estate, Car, Shopping and Others : 10,000,000+\n",
      "ZALORA Fashion Shopping : 10,000,000+\n",
      "Magazine Luiza Online Shopping : 10,000,000+\n",
      "ROMWE - Women's Fashion : 10,000,000+\n",
      "Buscapé - Offers and discounts : 10,000,000+\n",
      "Myntra Online Shopping App : 50,000,000+\n",
      "11st : 10,000,000+\n",
      "Coupang : 10,000,000+\n",
      "Wemep - Special price representative (special / shopping / shopping app / coupon / shipping) : 10,000,000+\n",
      "Target - now with Cartwheel : 10,000,000+\n",
      "Sam's Club: Wholesale Shopping & Instant Savings : 5,000,000+\n",
      "Chilindo : 1,000,000+\n",
      "Rossmann PL : 5,000,000+\n",
      "Jingdong - pick good things, go to Jingdong : 1,000,000+\n",
      "CheckPoints 🏆 Rewards App : 1,000,000+\n",
      "Extreme Coupon Finder : 1,000,000+\n",
      "SnipSnap Coupon App : 1,000,000+\n",
      "Checkout 51: Grocery coupons : 10,000,000+\n",
      "SavingStar - Grocery Coupons : 1,000,000+\n",
      "The Coupons App : 10,000,000+\n",
      "Shopkick: Free Gift Cards, Shop Rewards & Deals : 10,000,000+\n",
      "Key Ring: Cards Coupon & Sales : 1,000,000+\n",
      "Ibotta: Cash Back Savings, Rewards & Coupons App : 10,000,000+\n",
      "RetailMeNot - Coupons, Deals & Discount Shopping : 10,000,000+\n",
      "Kohl's: Scan, Shop, Pay & Save : 5,000,000+\n",
      "Stocard - Rewards Cards Wallet : 10,000,000+\n",
      "Nike : 1,000,000+\n",
      "Poshmark - Buy & Sell Fashion : 10,000,000+\n",
      "Mercari: The Selling App : 10,000,000+\n",
      "Shopular: Coupons, Weekly Ads & Shopping Deals : 1,000,000+\n",
      "LivingSocial - Local Deals : 5,000,000+\n",
      "Coupons.com – Grocery Coupons & Cash Back Savings : 1,000,000+\n",
      "Ebates: Cash Back, Coupons, Rewards & Savings : 1,000,000+\n",
      "FidMe Loyalty Cards & Deals at Grocery Supermarket : 1,000,000+\n",
      "Fancy : 5,000,000+\n",
      "Slice: Package Tracker : 1,000,000+\n",
      "LightInTheBox Online Shopping : 5,000,000+\n",
      "Best Buy : 5,000,000+\n",
      "JackThreads: Men's Shopping : 1,000,000+\n",
      "zulily - Shop Daily Deals in Fashion and Home : 1,000,000+\n",
      "MiniInTheBox Online Shopping : 1,000,000+\n",
      "Zappos – Shoe shopping made simple : 5,000,000+\n",
      "Tophatter - 90 Second Auctions : 10,000,000+\n",
      "Shopfully - Weekly Ads & Deals : 10,000,000+\n",
      "Wanelo Shopping : 1,000,000+\n",
      "Etsy: Handmade & Vintage Goods : 10,000,000+\n",
      "Overstock – Home Decor, Furniture Shopping : 1,000,000+\n",
      "Receipt Hog - Receipts to Cash : 1,000,000+\n",
      "ShopSavvy Barcode & QR Scanner : 10,000,000+\n",
      "Newegg Mobile : 1,000,000+\n",
      "The Home Depot : 5,000,000+\n",
      "Boxed Wholesale : 1,000,000+\n",
      "ASOS : 10,000,000+\n",
      "CL Mobile - Classifieds for Craigslist : 1,000,000+\n",
      "AE + Aerie: Jeans, Dresses, Swimsuits & Bralettes : 1,000,000+\n",
      "Wayfair - Shop All Things Home : 5,000,000+\n",
      "B&H Photo Video Pro Audio : 1,000,000+\n",
      "IKEA Store : 10,000,000+\n",
      "GearBest Online Shopping : 5,000,000+\n",
      "CJmall : 10,000,000+\n",
      "cPro Marketplace: Buy. Sell. Rent. Date. Jobs. : 10,000,000+\n",
      "Postings (Craigslist Search App) : 5,000,000+\n",
      "Dollar General - Digital Coupons, Ads And More : 5,000,000+\n",
      "Krazy Coupon Lady : 1,000,000+\n",
      "DHgate-Shop Wholesale Prices : 5,000,000+\n",
      "Shopee: No.1 Belanja Online : 10,000,000+\n",
      "Ouedkniss : 1,000,000+\n",
      "eBay Kleinanzeigen for Germany : 10,000,000+\n",
      "Groupon - Shop Deals, Discounts & Coupons : 50,000,000+\n",
      "FirstCry Baby & Kids Shopping, Fashion & Parenting : 5,000,000+\n",
      "Lalafo Pulsuz Elanlar : 1,000,000+\n",
      "Slickdeals: Coupons & Shopping : 1,000,000+\n"
     ]
    }
   ],
   "source": [
    "for app in free_google_apps:\n",
    "    if app[1] == 'SHOPPING' and (app[5] == '1,000,000+' or \n",
    "                                      app[5] == '5,000,000+' or\n",
    "                                      app[5] == '10,000,000+' or\n",
    "                                      app[5] == '50,000,000+'):\n",
    "        print(app[0], ':', app[5])"
   ]
  },
  {
   "cell_type": "markdown",
   "id": "63347201-f062-425b-8c53-0390948e576d",
   "metadata": {},
   "source": [
    "It looks like the category is pretty saturated in mid-range popularity with many e-commerce app achieving over 1 million downloads. Even though the competition might be significant, but it could also mean that there is demand for apps in the shopping category. It probably is a good idea to build an app in **shopping** category based solely on our analysis of the dataset. However, we will need some additional features such as integrating gamification elements, AI-powered personalization algorithm, in the app to stand out in this market. "
   ]
  },
  {
   "cell_type": "markdown",
   "id": "cc475617-d521-4d7d-8cd5-580b93ec2ddd",
   "metadata": {},
   "source": [
    "## Conclusion\n",
    "\n",
    "We have analysed both the App Store and Google Play Store app dataset with recommending an app profile that can be profitable for both markets as goal in mind. \n",
    "\n",
    "We have concluded that getting into *Shopping* category may be profitable for both the App Store and Google Play Store markets. Even though this category may be over saturated with rise of new e-commerce apps, but with additional features such as integrating gamification elements, AI-powered personalization algorithm the app may be able to achieve success. "
   ]
  }
 ],
 "metadata": {
  "kernelspec": {
   "display_name": "Python 3 (ipykernel)",
   "language": "python",
   "name": "python3"
  },
  "language_info": {
   "codemirror_mode": {
    "name": "ipython",
    "version": 3
   },
   "file_extension": ".py",
   "mimetype": "text/x-python",
   "name": "python",
   "nbconvert_exporter": "python",
   "pygments_lexer": "ipython3",
   "version": "3.12.4"
  }
 },
 "nbformat": 4,
 "nbformat_minor": 5
}
